{
 "cells": [
  {
   "cell_type": "markdown",
   "id": "cfd8d0c0-2c2d-4751-8f5d-999d79ae6108",
   "metadata": {},
   "source": [
    "## Text Extraction with Whisper\n",
    "\n",
    "In this notebook, we will extract information from video/audio files with [Whipser model](https://github.com/openai/whisper). Be leveraging multilingual support, we can extract tanscripts from videos files mixed different languages, even for one video file with different languanges. We provide the following options for whisper inference:\n",
    "- Batch inference with SageMaker Processing job, we can process massive data and store them into vector database for RAG solution.\n",
    "- Real-time inference with SageMaker Endpoint, we can leverage it to do summarizaton or QA with a short video/audio file (less than 6MB)."
   ]
  },
  {
   "cell_type": "code",
   "execution_count": 2,
   "id": "94a02764-403f-4c35-9754-e99e2a8d5b58",
   "metadata": {
    "tags": []
   },
   "outputs": [
    {
     "name": "stdout",
     "output_type": "stream",
     "text": [
      "\u001b[31mERROR: pip's dependency resolver does not currently take into account all the packages that are installed. This behaviour is the source of the following dependency conflicts.\n",
      "spyder 5.3.3 requires pyqt5<5.16, which is not installed.\n",
      "spyder 5.3.3 requires pyqtwebengine<5.16, which is not installed.\n",
      "awscli 1.27.153 requires PyYAML<5.5,>=3.10, but you have pyyaml 6.0 which is incompatible.\n",
      "distributed 2022.7.0 requires tornado<6.2,>=6.0.3, but you have tornado 6.3.2 which is incompatible.\n",
      "docker-compose 1.29.2 requires PyYAML<6,>=3.10, but you have pyyaml 6.0 which is incompatible.\n",
      "jupyterlab 3.4.4 requires jupyter-server~=1.16, but you have jupyter-server 2.6.0 which is incompatible.\n",
      "jupyterlab-server 2.10.3 requires jupyter-server~=1.4, but you have jupyter-server 2.6.0 which is incompatible.\n",
      "panel 0.13.1 requires bokeh<2.5.0,>=2.4.0, but you have bokeh 3.1.1 which is incompatible.\n",
      "spyder 5.3.3 requires ipython<8.0.0,>=7.31.1, but you have ipython 8.14.0 which is incompatible.\n",
      "spyder 5.3.3 requires pylint<3.0,>=2.5.0, but you have pylint 3.0.0a6 which is incompatible.\u001b[0m\u001b[31m\n",
      "\u001b[0m\u001b[33mWARNING: Running pip as the 'root' user can result in broken permissions and conflicting behaviour with the system package manager. It is recommended to use a virtual environment instead: https://pip.pypa.io/warnings/venv\u001b[0m\u001b[33m\n",
      "\u001b[0m"
     ]
    }
   ],
   "source": [
    "!pip install -U sagemaker -q"
   ]
  },
  {
   "cell_type": "markdown",
   "id": "38922488-e64f-45e2-983a-5c176f4e13ab",
   "metadata": {},
   "source": [
    "## Set up"
   ]
  },
  {
   "cell_type": "code",
   "execution_count": 3,
   "id": "3c209ddd-7a9a-4c7c-b582-6729ce88a4d9",
   "metadata": {
    "tags": []
   },
   "outputs": [],
   "source": [
    "from sagemaker.huggingface import HuggingFaceProcessor\n",
    "from sagemaker import get_execution_role\n",
    "from sagemaker.processing import ProcessingInput, ProcessingOutput\n",
    "from sagemaker.huggingface import HuggingFaceModel\n",
    "import sagemaker\n",
    "import boto3\n",
    "import json\n",
    "\n",
    "try:\n",
    "    role = sagemaker.get_execution_role()\n",
    "except ValueError:\n",
    "    iam = boto3.client('iam')\n",
    "    role = iam.get_role(RoleName='sagemaker_execution_role')['Role']['Arn']\n",
    "\n",
    "sess = sagemaker.session.Session()\n",
    "bucket = sess.default_bucket()\n",
    "prefix = \"sagemaker/rag_video\"\n",
    "s3_input = f\"s3://{bucket}/{prefix}/raw_data\" # Directory for video files\n",
    "s3_output_clips = f\"s3://{bucket}/{prefix}/clips\" # Directory for video clips\n",
    "s3_output_transcript = f\"s3://{bucket}/{prefix}/transcript\" # Directory for transcripts"
   ]
  },
  {
   "cell_type": "code",
   "execution_count": 4,
   "id": "4bb4961b-513c-405c-a847-b549b9b854d4",
   "metadata": {
    "tags": []
   },
   "outputs": [
    {
     "name": "stdout",
     "output_type": "stream",
     "text": [
      "Stored 's3_output_transcript' (str)\n",
      "Stored 's3_output_clips' (str)\n"
     ]
    }
   ],
   "source": [
    "%store s3_output_transcript\n",
    "%store s3_output_clips"
   ]
  },
  {
   "cell_type": "markdown",
   "id": "5892e7ff-edfe-4112-9ccd-bc34b2fc1bde",
   "metadata": {},
   "source": [
    "## Upload test data to S3 bucket"
   ]
  },
  {
   "cell_type": "code",
   "execution_count": null,
   "id": "02daea10-0cbf-4f5d-b294-023f6d56b12f",
   "metadata": {
    "tags": []
   },
   "outputs": [],
   "source": [
    "!aws s3 cp test_video.mp4 {s3_input}/\n",
    "!aws s3 cp test_audio.mp3 {s3_input}/"
   ]
  },
  {
   "cell_type": "markdown",
   "id": "7f00c2e3-c897-4a2c-a12e-b07c75ca5986",
   "metadata": {
    "tags": []
   },
   "source": [
    "## Batch inference with SageMaker Processing"
   ]
  },
  {
   "cell_type": "code",
   "execution_count": 9,
   "id": "2e002118-b7dc-4915-9fe0-f80e3bbfe847",
   "metadata": {
    "tags": []
   },
   "outputs": [
    {
     "name": "stderr",
     "output_type": "stream",
     "text": [
      "INFO:sagemaker.image_uris:image_uri is not presented, retrieving image_uri based on instance_type, framework etc.\n"
     ]
    }
   ],
   "source": [
    "hfp = HuggingFaceProcessor(\n",
    "    role=get_execution_role(), \n",
    "    instance_count=1,\n",
    "    instance_type='ml.p3.2xlarge',\n",
    "    transformers_version='4.28.1',\n",
    "    pytorch_version='2.0.0', \n",
    "    base_job_name='frameworkprocessor-hf',\n",
    "    py_version=\"py310\"\n",
    ")"
   ]
  },
  {
   "cell_type": "code",
   "execution_count": 10,
   "id": "90383250-179b-4499-8583-fdca5320ee75",
   "metadata": {
    "scrolled": true,
    "tags": []
   },
   "outputs": [
    {
     "name": "stderr",
     "output_type": "stream",
     "text": [
      "INFO:sagemaker.processing:Uploaded data_preparation to s3://sagemaker-us-east-1-631450739534/frameworkprocessor-hf-2023-07-15-06-06-27-603/source/sourcedir.tar.gz\n"
     ]
    },
    {
     "name": "stdout",
     "output_type": "stream",
     "text": [
      "Using provided s3_resource\n"
     ]
    },
    {
     "name": "stderr",
     "output_type": "stream",
     "text": [
      "INFO:sagemaker.processing:runproc.sh uploaded to s3://sagemaker-us-east-1-631450739534/frameworkprocessor-hf-2023-07-15-06-06-27-603/source/runproc.sh\n",
      "INFO:sagemaker:Creating processing-job with name frameworkprocessor-hf-2023-07-15-06-06-27-603\n"
     ]
    },
    {
     "name": "stdout",
     "output_type": "stream",
     "text": [
      ".............................................................\u001b[34mWARNING: Skipping typing as it is not installed.\u001b[0m\n",
      "\u001b[34mWARNING: Running pip as the 'root' user can result in broken permissions and conflicting behaviour with the system package manager. It is recommended to use a virtual environment instead: https://pip.pypa.io/warnings/venv\u001b[0m\n",
      "\u001b[34mCollecting git+https://github.com/openai/whisper.git (from -r requirements.txt (line 3))\n",
      "  Cloning https://github.com/openai/whisper.git to /tmp/pip-req-build-dg4u832y\n",
      "  Running command git clone --filter=blob:none --quiet https://github.com/openai/whisper.git /tmp/pip-req-build-dg4u832y\n",
      "  Resolved https://github.com/openai/whisper.git to commit b91c907694f96a3fb9da03d4bbdc83fbcd3a40a4\n",
      "  Installing build dependencies: started\u001b[0m\n",
      "\u001b[34m  Installing build dependencies: finished with status 'done'\n",
      "  Getting requirements to build wheel: started\n",
      "  Getting requirements to build wheel: finished with status 'done'\n",
      "  Preparing metadata (pyproject.toml): started\u001b[0m\n",
      "\u001b[34m  Preparing metadata (pyproject.toml): finished with status 'done'\u001b[0m\n",
      "\u001b[34mCollecting tiktoken (from -r requirements.txt (line 1))\n",
      "  Downloading tiktoken-0.4.0-cp310-cp310-manylinux_2_17_x86_64.manylinux2014_x86_64.whl (1.7 MB)\n",
      "     ━━━━━━━━━━━━━━━━━━━━━━━━━━━━━━━━━━━━━━━━ 1.7/1.7 MB 38.8 MB/s eta 0:00:00\u001b[0m\n",
      "\u001b[34mCollecting moviepy (from -r requirements.txt (line 2))\n",
      "  Downloading moviepy-1.0.3.tar.gz (388 kB)\n",
      "     ━━━━━━━━━━━━━━━━━━━━━━━━━━━━━━━━━━━━━━ 388.3/388.3 kB 38.5 MB/s eta 0:00:00\n",
      "  Preparing metadata (setup.py): started\n",
      "  Preparing metadata (setup.py): finished with status 'done'\u001b[0m\n",
      "\u001b[34mRequirement already satisfied: sagemaker in /opt/conda/lib/python3.10/site-packages (from -r requirements.txt (line 4)) (2.154.0)\u001b[0m\n",
      "\u001b[34mCollecting pydub (from -r requirements.txt (line 5))\n",
      "  Downloading pydub-0.25.1-py2.py3-none-any.whl (32 kB)\u001b[0m\n",
      "\u001b[34mCollecting sentence-transformers (from -r requirements.txt (line 6))\n",
      "  Downloading sentence-transformers-2.2.2.tar.gz (85 kB)\n",
      "     ━━━━━━━━━━━━━━━━━━━━━━━━━━━━━━━━━━━━━━━━ 86.0/86.0 kB 17.4 MB/s eta 0:00:00\n",
      "  Preparing metadata (setup.py): started\n",
      "  Preparing metadata (setup.py): finished with status 'done'\u001b[0m\n",
      "\u001b[34mRequirement already satisfied: regex>=2022.1.18 in /opt/conda/lib/python3.10/site-packages (from tiktoken->-r requirements.txt (line 1)) (2023.5.5)\u001b[0m\n",
      "\u001b[34mRequirement already satisfied: requests>=2.26.0 in /opt/conda/lib/python3.10/site-packages (from tiktoken->-r requirements.txt (line 1)) (2.28.2)\u001b[0m\n",
      "\u001b[34mCollecting decorator<5.0,>=4.0.2 (from moviepy->-r requirements.txt (line 2))\n",
      "  Downloading decorator-4.4.2-py2.py3-none-any.whl (9.2 kB)\u001b[0m\n",
      "\u001b[34mRequirement already satisfied: tqdm<5.0,>=4.11.2 in /opt/conda/lib/python3.10/site-packages (from moviepy->-r requirements.txt (line 2)) (4.65.0)\u001b[0m\n",
      "\u001b[34mCollecting proglog<=1.0.0 (from moviepy->-r requirements.txt (line 2))\n",
      "  Downloading proglog-0.1.10-py3-none-any.whl (6.1 kB)\u001b[0m\n",
      "\u001b[34mRequirement already satisfied: numpy>=1.17.3 in /opt/conda/lib/python3.10/site-packages (from moviepy->-r requirements.txt (line 2)) (1.23.5)\u001b[0m\n",
      "\u001b[34mRequirement already satisfied: imageio<3.0,>=2.5 in /opt/conda/lib/python3.10/site-packages (from moviepy->-r requirements.txt (line 2)) (2.28.1)\u001b[0m\n",
      "\u001b[34mCollecting imageio_ffmpeg>=0.2.0 (from moviepy->-r requirements.txt (line 2))\n",
      "  Downloading imageio_ffmpeg-0.4.8-py3-none-manylinux2010_x86_64.whl (26.9 MB)\u001b[0m\n",
      "\u001b[34m     ━━━━━━━━━━━━━━━━━━━━━━━━━━━━━━━━━━━━━━━━ 26.9/26.9 MB 44.4 MB/s eta 0:00:00\u001b[0m\n",
      "\u001b[34mCollecting triton==2.0.0 (from openai-whisper==20230314->-r requirements.txt (line 3))\n",
      "  Downloading triton-2.0.0-1-cp310-cp310-manylinux2014_x86_64.manylinux_2_17_x86_64.whl (63.3 MB)\n",
      "     ━━━━━━━━━━━━━━━━━━━━━━━━━━━━━━━━━━━━━━━━ 63.3/63.3 MB 23.8 MB/s eta 0:00:00\u001b[0m\n",
      "\u001b[34mRequirement already satisfied: numba in /opt/conda/lib/python3.10/site-packages (from openai-whisper==20230314->-r requirements.txt (line 3)) (0.56.4)\u001b[0m\n",
      "\u001b[34mRequirement already satisfied: torch in /opt/conda/lib/python3.10/site-packages (from openai-whisper==20230314->-r requirements.txt (line 3)) (2.0.0)\u001b[0m\n",
      "\u001b[34mCollecting more-itertools (from openai-whisper==20230314->-r requirements.txt (line 3))\n",
      "  Downloading more_itertools-9.1.0-py3-none-any.whl (54 kB)\n",
      "     ━━━━━━━━━━━━━━━━━━━━━━━━━━━━━━━━━━━━━━━━ 54.2/54.2 kB 9.3 MB/s eta 0:00:00\u001b[0m\n",
      "\u001b[34mCollecting tiktoken (from -r requirements.txt (line 1))\n",
      "  Downloading tiktoken-0.3.3-cp310-cp310-manylinux_2_17_x86_64.manylinux2014_x86_64.whl (1.7 MB)\n",
      "     ━━━━━━━━━━━━━━━━━━━━━━━━━━━━━━━━━━━━━━━━ 1.7/1.7 MB 60.5 MB/s eta 0:00:00\u001b[0m\n",
      "\u001b[34mRequirement already satisfied: cmake in /opt/conda/lib/python3.10/site-packages (from triton==2.0.0->openai-whisper==20230314->-r requirements.txt (line 3)) (3.26.3)\u001b[0m\n",
      "\u001b[34mRequirement already satisfied: filelock in /opt/conda/lib/python3.10/site-packages (from triton==2.0.0->openai-whisper==20230314->-r requirements.txt (line 3)) (3.12.0)\u001b[0m\n",
      "\u001b[34mRequirement already satisfied: lit in /opt/conda/lib/python3.10/site-packages (from triton==2.0.0->openai-whisper==20230314->-r requirements.txt (line 3)) (16.0.3)\u001b[0m\n",
      "\u001b[34mRequirement already satisfied: attrs<23,>=20.3.0 in /opt/conda/lib/python3.10/site-packages (from sagemaker->-r requirements.txt (line 4)) (22.2.0)\u001b[0m\n",
      "\u001b[34mRequirement already satisfied: boto3<2.0,>=1.26.28 in /opt/conda/lib/python3.10/site-packages (from sagemaker->-r requirements.txt (line 4)) (1.26.132)\u001b[0m\n",
      "\u001b[34mRequirement already satisfied: cloudpickle==2.2.1 in /opt/conda/lib/python3.10/site-packages (from sagemaker->-r requirements.txt (line 4)) (2.2.1)\u001b[0m\n",
      "\u001b[34mRequirement already satisfied: google-pasta in /opt/conda/lib/python3.10/site-packages (from sagemaker->-r requirements.txt (line 4)) (0.2.0)\u001b[0m\n",
      "\u001b[34mRequirement already satisfied: protobuf<4.0,>=3.1 in /opt/conda/lib/python3.10/site-packages (from sagemaker->-r requirements.txt (line 4)) (3.20.2)\u001b[0m\n",
      "\u001b[34mRequirement already satisfied: protobuf3-to-dict<1.0,>=0.1.5 in /opt/conda/lib/python3.10/site-packages (from sagemaker->-r requirements.txt (line 4)) (0.1.5)\u001b[0m\n",
      "\u001b[34mRequirement already satisfied: smdebug-rulesconfig==1.0.1 in /opt/conda/lib/python3.10/site-packages (from sagemaker->-r requirements.txt (line 4)) (1.0.1)\u001b[0m\n",
      "\u001b[34mRequirement already satisfied: importlib-metadata<5.0,>=1.4.0 in /opt/conda/lib/python3.10/site-packages (from sagemaker->-r requirements.txt (line 4)) (4.13.0)\u001b[0m\n",
      "\u001b[34mRequirement already satisfied: packaging>=20.0 in /opt/conda/lib/python3.10/site-packages (from sagemaker->-r requirements.txt (line 4)) (23.1)\u001b[0m\n",
      "\u001b[34mRequirement already satisfied: pandas in /opt/conda/lib/python3.10/site-packages (from sagemaker->-r requirements.txt (line 4)) (2.0.1)\u001b[0m\n",
      "\u001b[34mRequirement already satisfied: pathos in /opt/conda/lib/python3.10/site-packages (from sagemaker->-r requirements.txt (line 4)) (0.3.0)\u001b[0m\n",
      "\u001b[34mRequirement already satisfied: schema in /opt/conda/lib/python3.10/site-packages (from sagemaker->-r requirements.txt (line 4)) (0.7.5)\u001b[0m\n",
      "\u001b[34mRequirement already satisfied: PyYAML==5.4.1 in /opt/conda/lib/python3.10/site-packages (from sagemaker->-r requirements.txt (line 4)) (5.4.1)\u001b[0m\n",
      "\u001b[34mRequirement already satisfied: jsonschema in /opt/conda/lib/python3.10/site-packages (from sagemaker->-r requirements.txt (line 4)) (4.17.3)\u001b[0m\n",
      "\u001b[34mRequirement already satisfied: platformdirs in /opt/conda/lib/python3.10/site-packages (from sagemaker->-r requirements.txt (line 4)) (3.5.0)\u001b[0m\n",
      "\u001b[34mRequirement already satisfied: tblib==1.7.0 in /opt/conda/lib/python3.10/site-packages (from sagemaker->-r requirements.txt (line 4)) (1.7.0)\u001b[0m\n",
      "\u001b[34mRequirement already satisfied: transformers<5.0.0,>=4.6.0 in /opt/conda/lib/python3.10/site-packages (from sentence-transformers->-r requirements.txt (line 6)) (4.28.1)\u001b[0m\n",
      "\u001b[34mRequirement already satisfied: torchvision in /opt/conda/lib/python3.10/site-packages (from sentence-transformers->-r requirements.txt (line 6)) (0.15.1)\u001b[0m\n",
      "\u001b[34mRequirement already satisfied: scikit-learn in /opt/conda/lib/python3.10/site-packages (from sentence-transformers->-r requirements.txt (line 6)) (1.2.2)\u001b[0m\n",
      "\u001b[34mRequirement already satisfied: scipy in /opt/conda/lib/python3.10/site-packages (from sentence-transformers->-r requirements.txt (line 6)) (1.10.1)\u001b[0m\n",
      "\u001b[34mCollecting nltk (from sentence-transformers->-r requirements.txt (line 6))\n",
      "  Downloading nltk-3.8.1-py3-none-any.whl (1.5 MB)\n",
      "     ━━━━━━━━━━━━━━━━━━━━━━━━━━━━━━━━━━━━━━━━ 1.5/1.5 MB 66.0 MB/s eta 0:00:00\u001b[0m\n",
      "\u001b[34mRequirement already satisfied: sentencepiece in /opt/conda/lib/python3.10/site-packages (from sentence-transformers->-r requirements.txt (line 6)) (0.1.99)\u001b[0m\n",
      "\u001b[34mRequirement already satisfied: huggingface-hub>=0.4.0 in /opt/conda/lib/python3.10/site-packages (from sentence-transformers->-r requirements.txt (line 6)) (0.14.1)\u001b[0m\n",
      "\u001b[34mRequirement already satisfied: botocore<1.30.0,>=1.29.132 in /opt/conda/lib/python3.10/site-packages (from boto3<2.0,>=1.26.28->sagemaker->-r requirements.txt (line 4)) (1.29.132)\u001b[0m\n",
      "\u001b[34mRequirement already satisfied: jmespath<2.0.0,>=0.7.1 in /opt/conda/lib/python3.10/site-packages (from boto3<2.0,>=1.26.28->sagemaker->-r requirements.txt (line 4)) (1.0.1)\u001b[0m\n",
      "\u001b[34mRequirement already satisfied: s3transfer<0.7.0,>=0.6.0 in /opt/conda/lib/python3.10/site-packages (from boto3<2.0,>=1.26.28->sagemaker->-r requirements.txt (line 4)) (0.6.1)\u001b[0m\n",
      "\u001b[34mRequirement already satisfied: fsspec in /opt/conda/lib/python3.10/site-packages (from huggingface-hub>=0.4.0->sentence-transformers->-r requirements.txt (line 6)) (2023.5.0)\u001b[0m\n",
      "\u001b[34mRequirement already satisfied: typing-extensions>=3.7.4.3 in /opt/conda/lib/python3.10/site-packages (from huggingface-hub>=0.4.0->sentence-transformers->-r requirements.txt (line 6)) (4.5.0)\u001b[0m\n",
      "\u001b[34mRequirement already satisfied: pillow>=8.3.2 in /opt/conda/lib/python3.10/site-packages (from imageio<3.0,>=2.5->moviepy->-r requirements.txt (line 2)) (9.4.0)\u001b[0m\n",
      "\u001b[34mRequirement already satisfied: zipp>=0.5 in /opt/conda/lib/python3.10/site-packages (from importlib-metadata<5.0,>=1.4.0->sagemaker->-r requirements.txt (line 4)) (3.15.0)\u001b[0m\n",
      "\u001b[34mRequirement already satisfied: six in /opt/conda/lib/python3.10/site-packages (from protobuf3-to-dict<1.0,>=0.1.5->sagemaker->-r requirements.txt (line 4)) (1.16.0)\u001b[0m\n",
      "\u001b[34mRequirement already satisfied: charset-normalizer<4,>=2 in /opt/conda/lib/python3.10/site-packages (from requests>=2.26.0->tiktoken->-r requirements.txt (line 1)) (3.1.0)\u001b[0m\n",
      "\u001b[34mRequirement already satisfied: idna<4,>=2.5 in /opt/conda/lib/python3.10/site-packages (from requests>=2.26.0->tiktoken->-r requirements.txt (line 1)) (3.4)\u001b[0m\n",
      "\u001b[34mRequirement already satisfied: urllib3<1.27,>=1.21.1 in /opt/conda/lib/python3.10/site-packages (from requests>=2.26.0->tiktoken->-r requirements.txt (line 1)) (1.26.15)\u001b[0m\n",
      "\u001b[34mRequirement already satisfied: certifi>=2017.4.17 in /opt/conda/lib/python3.10/site-packages (from requests>=2.26.0->tiktoken->-r requirements.txt (line 1)) (2023.5.7)\u001b[0m\n",
      "\u001b[34mRequirement already satisfied: sympy in /opt/conda/lib/python3.10/site-packages (from torch->openai-whisper==20230314->-r requirements.txt (line 3)) (1.11.1)\u001b[0m\n",
      "\u001b[34mRequirement already satisfied: networkx in /opt/conda/lib/python3.10/site-packages (from torch->openai-whisper==20230314->-r requirements.txt (line 3)) (3.1)\u001b[0m\n",
      "\u001b[34mRequirement already satisfied: jinja2 in /opt/conda/lib/python3.10/site-packages (from torch->openai-whisper==20230314->-r requirements.txt (line 3)) (3.1.2)\u001b[0m\n",
      "\u001b[34mRequirement already satisfied: tokenizers!=0.11.3,<0.14,>=0.11.1 in /opt/conda/lib/python3.10/site-packages (from transformers<5.0.0,>=4.6.0->sentence-transformers->-r requirements.txt (line 6)) (0.13.3)\u001b[0m\n",
      "\u001b[34mRequirement already satisfied: pyrsistent!=0.17.0,!=0.17.1,!=0.17.2,>=0.14.0 in /opt/conda/lib/python3.10/site-packages (from jsonschema->sagemaker->-r requirements.txt (line 4)) (0.19.3)\u001b[0m\n",
      "\u001b[34mRequirement already satisfied: click in /opt/conda/lib/python3.10/site-packages (from nltk->sentence-transformers->-r requirements.txt (line 6)) (8.1.3)\u001b[0m\n",
      "\u001b[34mRequirement already satisfied: joblib in /opt/conda/lib/python3.10/site-packages (from nltk->sentence-transformers->-r requirements.txt (line 6)) (1.2.0)\u001b[0m\n",
      "\u001b[34mRequirement already satisfied: llvmlite<0.40,>=0.39.0dev0 in /opt/conda/lib/python3.10/site-packages (from numba->openai-whisper==20230314->-r requirements.txt (line 3)) (0.39.1)\u001b[0m\n",
      "\u001b[34mRequirement already satisfied: setuptools in /opt/conda/lib/python3.10/site-packages (from numba->openai-whisper==20230314->-r requirements.txt (line 3)) (65.6.3)\u001b[0m\n",
      "\u001b[34mRequirement already satisfied: python-dateutil>=2.8.2 in /opt/conda/lib/python3.10/site-packages (from pandas->sagemaker->-r requirements.txt (line 4)) (2.8.2)\u001b[0m\n",
      "\u001b[34mRequirement already satisfied: pytz>=2020.1 in /opt/conda/lib/python3.10/site-packages (from pandas->sagemaker->-r requirements.txt (line 4)) (2023.3)\u001b[0m\n",
      "\u001b[34mRequirement already satisfied: tzdata>=2022.1 in /opt/conda/lib/python3.10/site-packages (from pandas->sagemaker->-r requirements.txt (line 4)) (2023.3)\u001b[0m\n",
      "\u001b[34mRequirement already satisfied: ppft>=1.7.6.6 in /opt/conda/lib/python3.10/site-packages (from pathos->sagemaker->-r requirements.txt (line 4)) (1.7.6.6)\u001b[0m\n",
      "\u001b[34mRequirement already satisfied: dill>=0.3.6 in /opt/conda/lib/python3.10/site-packages (from pathos->sagemaker->-r requirements.txt (line 4)) (0.3.6)\u001b[0m\n",
      "\u001b[34mRequirement already satisfied: pox>=0.3.2 in /opt/conda/lib/python3.10/site-packages (from pathos->sagemaker->-r requirements.txt (line 4)) (0.3.2)\u001b[0m\n",
      "\u001b[34mRequirement already satisfied: multiprocess>=0.70.14 in /opt/conda/lib/python3.10/site-packages (from pathos->sagemaker->-r requirements.txt (line 4)) (0.70.14)\u001b[0m\n",
      "\u001b[34mRequirement already satisfied: contextlib2>=0.5.5 in /opt/conda/lib/python3.10/site-packages (from schema->sagemaker->-r requirements.txt (line 4)) (21.6.0)\u001b[0m\n",
      "\u001b[34mRequirement already satisfied: threadpoolctl>=2.0.0 in /opt/conda/lib/python3.10/site-packages (from scikit-learn->sentence-transformers->-r requirements.txt (line 6)) (3.1.0)\u001b[0m\n",
      "\u001b[34mRequirement already satisfied: MarkupSafe>=2.0 in /opt/conda/lib/python3.10/site-packages (from jinja2->torch->openai-whisper==20230314->-r requirements.txt (line 3)) (2.1.2)\u001b[0m\n",
      "\u001b[34mRequirement already satisfied: mpmath>=0.19 in /opt/conda/lib/python3.10/site-packages (from sympy->torch->openai-whisper==20230314->-r requirements.txt (line 3)) (1.3.0)\u001b[0m\n",
      "\u001b[34mBuilding wheels for collected packages: moviepy, openai-whisper, sentence-transformers\n",
      "  Building wheel for moviepy (setup.py): started\u001b[0m\n",
      "\u001b[34m  Building wheel for moviepy (setup.py): finished with status 'done'\n",
      "  Created wheel for moviepy: filename=moviepy-1.0.3-py3-none-any.whl size=110730 sha256=f60a24fc7d1ed2bb2bd33682d2f7b788a56ca4516b85fa8a892fb6a893e14bbf\n",
      "  Stored in directory: /root/.cache/pip/wheels/96/32/2d/e10123bd88fbfc02fed53cc18c80a171d3c87479ed845fa7c1\n",
      "  Building wheel for openai-whisper (pyproject.toml): started\u001b[0m\n",
      "\u001b[34m  Building wheel for openai-whisper (pyproject.toml): finished with status 'done'\n",
      "  Created wheel for openai-whisper: filename=openai_whisper-20230314-py3-none-any.whl size=798285 sha256=5ee7628c535dd2dfecf383f2272692a60e82fd671859f79a17918698e3ca3aed\n",
      "  Stored in directory: /tmp/pip-ephem-wheel-cache-mt_vy473/wheels/8b/6c/d0/622666868c179f156cf595c8b6f06f88bc5d80c4b31dccaa03\n",
      "  Building wheel for sentence-transformers (setup.py): started\n",
      "  Building wheel for sentence-transformers (setup.py): finished with status 'done'\n",
      "  Created wheel for sentence-transformers: filename=sentence_transformers-2.2.2-py3-none-any.whl size=125926 sha256=5e8a060301bcad71f2f93e32a8ef22b4050b3b3f933a9c7d69d4dfef3237bd80\n",
      "  Stored in directory: /root/.cache/pip/wheels/62/f2/10/1e606fd5f02395388f74e7462910fe851042f97238cbbd902f\u001b[0m\n",
      "\u001b[34mSuccessfully built moviepy openai-whisper sentence-transformers\u001b[0m\n",
      "\u001b[34mInstalling collected packages: pydub, proglog, nltk, more-itertools, imageio_ffmpeg, decorator, tiktoken, moviepy, triton, sentence-transformers, openai-whisper\u001b[0m\n",
      "\u001b[34m  Attempting uninstall: decorator\n",
      "    Found existing installation: decorator 5.1.1\n",
      "    Uninstalling decorator-5.1.1:\u001b[0m\n",
      "\u001b[34m      Successfully uninstalled decorator-5.1.1\n",
      "  Attempting uninstall: triton\n",
      "    Found existing installation: triton 2.0.0.dev20221202\n",
      "    Uninstalling triton-2.0.0.dev20221202:\n",
      "      Successfully uninstalled triton-2.0.0.dev20221202\u001b[0m\n",
      "\u001b[34mSuccessfully installed decorator-4.4.2 imageio_ffmpeg-0.4.8 more-itertools-9.1.0 moviepy-1.0.3 nltk-3.8.1 openai-whisper-20230314 proglog-0.1.10 pydub-0.25.1 sentence-transformers-2.2.2 tiktoken-0.3.3 triton-2.0.0\u001b[0m\n",
      "\u001b[34mWARNING: Running pip as the 'root' user can result in broken permissions and conflicting behaviour with the system package manager. It is recommended to use a virtual environment instead: https://pip.pypa.io/warnings/venv\u001b[0m\n",
      "\u001b[34m#015Downloading (…)lve/main/config.json:   0%|          | 0.00/1.99k [00:00<?, ?B/s]#015Downloading (…)lve/main/config.json: 100%|██████████| 1.99k/1.99k [00:00<00:00, 11.5MB/s]\u001b[0m\n",
      "\u001b[34m#015Downloading pytorch_model.bin:   0%|          | 0.00/6.17G [00:00<?, ?B/s]#015Downloading pytorch_model.bin:   1%|          | 41.9M/6.17G [00:00<00:18, 332MB/s]#015Downloading pytorch_model.bin:   1%|▏         | 83.9M/6.17G [00:00<00:17, 350MB/s]#015Downloading pytorch_model.bin:   2%|▏         | 126M/6.17G [00:00<00:16, 369MB/s] #015Downloading pytorch_model.bin:   3%|▎         | 168M/6.17G [00:00<00:17, 334MB/s]#015Downloading pytorch_model.bin:   3%|▎         | 210M/6.17G [00:00<00:17, 332MB/s]#015Downloading pytorch_model.bin:   4%|▍         | 252M/6.17G [00:00<00:17, 339MB/s]#015Downloading pytorch_model.bin:   5%|▍         | 294M/6.17G [00:00<00:16, 356MB/s]#015Downloading pytorch_model.bin:   5%|▌         | 336M/6.17G [00:00<00:15, 371MB/s]#015Downloading pytorch_model.bin:   6%|▋         | 388M/6.17G [00:01<00:14, 389MB/s]#015Downloading pytorch_model.bin:   7%|▋         | 430M/6.17G [00:01<00:15, 372MB/s]#015Downloading pytorch_model.bin:   8%|▊         | 472M/6.17G [00:01<00:16, 354MB/s]#015Downloading pytorch_model.bin:   8%|▊         | 514M/6.17G [00:01<00:15, 370MB/s]#015Downloading pytorch_model.bin:   9%|▉         | 556M/6.17G [00:01<00:14, 384MB/s]#015Downloading pytorch_model.bin:  10%|▉         | 598M/6.17G [00:01<00:14, 393MB/s]#015Downloading pytorch_model.bin:  10%|█         | 640M/6.17G [00:01<00:13, 400MB/s]#015Downloading pytorch_model.bin:  11%|█         | 692M/6.17G [00:01<00:13, 408MB/s]#015Downloading pytorch_model.bin:  12%|█▏        | 734M/6.17G [00:01<00:13, 402MB/s]#015Downloading pytorch_model.bin:  13%|█▎        | 776M/6.17G [00:02<00:13, 399MB/s]#015Downloading pytorch_model.bin:  13%|█▎        | 818M/6.17G [00:02<00:13, 395MB/s]#015Downloading pytorch_model.bin:  14%|█▍        | 870M/6.17G [00:02<00:13, 404MB/s]#015Downloading pytorch_model.bin:  15%|█▍        | 912M/6.17G [00:02<00:12, 406MB/s]#015Downloading pytorch_model.bin:  16%|█▌        | 965M/6.17G [00:02<00:12, 413MB/s]#015Downloading pytorch_model.bin:  16%|█▋        | 1.01G/6.17G [00:02<00:12, 414MB/s]#015Downloading pytorch_model.bin:  17%|█▋        | 1.05G/6.17G [00:02<00:12, 414MB/s]#015Downloading pytorch_model.bin:  18%|█▊        | 1.10G/6.17G [00:02<00:11, 423MB/s]#015Downloading pytorch_model.bin:  19%|█▊        | 1.15G/6.17G [00:02<00:11, 432MB/s]#015Downloading pytorch_model.bin:  20%|█▉        | 1.21G/6.17G [00:03<00:11, 428MB/s]#015Downloading pytorch_model.bin:  20%|██        | 1.26G/6.17G [00:03<00:11, 426MB/s]#015Downloading pytorch_model.bin:  21%|██        | 1.31G/6.17G [00:03<00:11, 429MB/s]#015Downloading pytorch_model.bin:  22%|██▏       | 1.36G/6.17G [00:03<00:10, 437MB/s]#015Downloading pytorch_model.bin:  23%|██▎       | 1.42G/6.17G [00:03<00:10, 440MB/s]#015Downloading pytorch_model.bin:  24%|██▍       | 1.47G/6.17G [00:03<00:11, 412MB/s]#015Downloading pytorch_model.bin:  25%|██▍       | 1.52G/6.17G [00:03<00:11, 421MB/s]#015Downloading pytorch_model.bin:  25%|██▌       | 1.57G/6.17G [00:03<00:10, 430MB/s]#015Downloading pytorch_model.bin:  26%|██▋       | 1.63G/6.17G [00:04<00:11, 410MB/s]#015Downloading pytorch_model.bin:  27%|██▋       | 1.67G/6.17G [00:04<00:11, 399MB/s]#015Downloading pytorch_model.bin:  28%|██▊       | 1.72G/6.17G [00:04<00:10, 409MB/s]#015Downloading pytorch_model.bin:  29%|██▊       | 1.76G/6.17G [00:04<00:10, 406MB/s]#015Downloading pytorch_model.bin:  29%|██▉       | 1.80G/6.17G [00:04<00:11, 393MB/s]#015Downloading pytorch_model.bin:  30%|███       | 1.86G/6.17G [00:04<00:10, 413MB/s]#015Downloading pytorch_model.bin:  31%|███       | 1.91G/6.17G [00:04<00:09, 429MB/s]#015Downloading pytorch_model.bin:  32%|███▏      | 1.96G/6.17G [00:04<00:10, 412MB/s]#015Downloading pytorch_model.bin:  33%|███▎      | 2.01G/6.17G [00:05<00:09, 423MB/s]#015Downloading pytorch_model.bin:  33%|███▎      | 2.07G/6.17G [00:05<00:09, 434MB/s]#015Downloading pytorch_model.bin:  34%|███▍      | 2.12G/6.17G [00:05<00:09, 414MB/s]#015Downloading pytorch_model.bin:  35%|███▌      | 2.17G/6.17G [00:05<00:09, 420MB/s]#015Downloading pytorch_model.bin:  36%|███▌      | 2.22G/6.17G [00:05<00:09, 414MB/s]#015Downloading pytorch_model.bin:  37%|███▋      | 2.28G/6.17G [00:05<00:09, 419MB/s]#015Downloading pytorch_model.bin:  38%|███▊      | 2.33G/6.17G [00:05<00:09, 416MB/s]#015Downloading pytorch_model.bin:  38%|███▊      | 2.37G/6.17G [00:05<00:09, 404MB/s]#015Downloading pytorch_model.bin:  39%|███▉      | 2.42G/6.17G [00:06<00:08, 420MB/s]#015Downloading pytorch_model.bin:  40%|████      | 2.47G/6.17G [00:06<00:08, 432MB/s]#015Downloading pytorch_model.bin:  41%|████      | 2.53G/6.17G [00:06<00:09, 405MB/s]#015Downloading pytorch_model.bin:  42%|████▏     | 2.58G/6.17G [00:06<00:08, 418MB/s]#015Downloading pytorch_model.bin:  43%|████▎     | 2.63G/6.17G [00:06<00:08, 403MB/s]#015Downloading pytorch_model.bin:  43%|████▎     | 2.68G/6.17G [00:06<00:08, 410MB/s]#015Downloading pytorch_model.bin:  44%|████▍     | 2.73G/6.17G [00:06<00:08, 405MB/s]#015Downloading pytorch_model.bin:  45%|████▌     | 2.78G/6.17G [00:06<00:08, 413MB/s]#015Downloading pytorch_model.bin:  46%|████▌     | 2.82G/6.17G [00:06<00:08, 393MB/s]#015Downloading pytorch_model.bin:  46%|████▋     | 2.86G/6.17G [00:07<00:08, 384MB/s]#015Downloading pytorch_model.bin:  47%|████▋     | 2.90G/6.17G [00:07<00:08, 376MB/s]#015Downloading pytorch_model.bin:  48%|████▊     | 2.95G/6.17G [00:07<00:08, 366MB/s]#015Downloading pytorch_model.bin:  49%|████▊     | 3.00G/6.17G [00:07<00:08, 388MB/s]#015Downloading pytorch_model.bin:  49%|████▉     | 3.04G/6.17G [00:07<00:07, 392MB/s]#015Downloading pytorch_model.bin:  50%|█████     | 3.09G/6.17G [00:07<00:07, 414MB/s]#015Downloading pytorch_model.bin:  51%|█████     | 3.15G/6.17G [00:07<00:07, 425MB/s]#015Downloading pytorch_model.bin:  52%|█████▏    | 3.20G/6.17G [00:07<00:06, 427MB/s]#015Downloading pytorch_model.bin:  53%|█████▎    | 3.25G/6.17G [00:08<00:06, 436MB/s]#015Downloading pytorch_model.bin:  54%|█████▎    | 3.30G/6.17G [00:08<00:06, 444MB/s]#015Downloading pytorch_model.bin:  54%|█████▍    | 3.36G/6.17G [00:08<00:06, 415MB/s]#015Downloading pytorch_model.bin:  55%|█████▌    | 3.40G/6.17G [00:08<00:07, 396MB/s]#015Downloading pytorch_model.bin:  56%|█████▌    | 3.45G/6.17G [00:08<00:06, 413MB/s]#015Downloading pytorch_model.bin:  57%|█████▋    | 3.50G/6.17G [00:08<00:06, 425MB/s]#015Downloading pytorch_model.bin:  58%|█████▊    | 3.55G/6.17G [00:08<00:06, 435MB/s]#015Downloading pytorch_model.bin:  58%|█████▊    | 3.61G/6.17G [00:08<00:06, 427MB/s]#015Downloading pytorch_model.bin:  59%|█████▉    | 3.66G/6.17G [00:09<00:06, 414MB/s]#015Downloading pytorch_model.bin:  60%|█████▉    | 3.70G/6.17G [00:09<00:06, 403MB/s]#015Downloading pytorch_model.bin:  61%|██████    | 3.75G/6.17G [00:09<00:05, 416MB/s]#015Downloading pytorch_model.bin:  62%|██████▏   | 3.81G/6.17G [00:09<00:05, 430MB/s]#015Downloading pytorch_model.bin:  63%|██████▎   | 3.86G/6.17G [00:09<00:05, 416MB/s]#015Downloading pytorch_model.bin:  63%|██████▎   | 3.90G/6.17G [00:09<00:05, 415MB/s]#015Downloading pytorch_model.bin:  64%|██████▍   | 3.94G/6.17G [00:09<00:05, 394MB/s]#015Downloading pytorch_model.bin:  65%|██████▍   | 3.98G/6.17G [00:09<00:05, 387MB/s]#015Downloading pytorch_model.bin:  65%|██████▌   | 4.03G/6.17G [00:09<00:05, 378MB/s]#015Downloading pytorch_model.bin:  66%|██████▌   | 4.07G/6.17G [00:10<00:05, 374MB/s]#015Downloading pytorch_model.bin:  67%|██████▋   | 4.11G/6.17G [00:10<00:05, 380MB/s]#015Downloading pytorch_model.bin:  67%|██████▋   | 4.15G/6.17G [00:10<00:05, 378MB/s]#015Downloading pytorch_model.bin:  68%|██████▊   | 4.19G/6.17G [00:10<00:05, 377MB/s]#015Downloading pytorch_model.bin:  69%|██████▊   | 4.24G/6.17G [00:10<00:05, 366MB/s]#015Downloading pytorch_model.bin:  69%|██████▉   | 4.29G/6.17G [00:10<00:04, 392MB/s]#015Downloading pytorch_model.bin:  70%|███████   | 4.33G/6.17G [00:10<00:04, 385MB/s]#015Downloading pytorch_model.bin:  71%|███████   | 4.38G/6.17G [00:10<00:04, 401MB/s]#015Downloading pytorch_model.bin:  72%|███████▏  | 4.42G/6.17G [00:10<00:04, 402MB/s]#015Downloading pytorch_model.bin:  72%|███████▏  | 4.47G/6.17G [00:11<00:04, 395MB/s]#015Downloading pytorch_model.bin:  73%|███████▎  | 4.52G/6.17G [00:11<00:04, 409MB/s]#015Downloading pytorch_model.bin:  74%|███████▍  | 4.57G/6.17G [00:11<00:03, 419MB/s]#015Downloading pytorch_model.bin:  75%|███████▍  | 4.61G/6.17G [00:11<00:03, 409MB/s]#015Downloading pytorch_model.bin:  75%|███████▌  | 4.66G/6.17G [00:11<00:03, 406MB/s]#015Downloading pytorch_model.bin:  76%|███████▌  | 4.70G/6.17G [00:11<00:03, 405MB/s]#015Downloading pytorch_model.bin:  77%|███████▋  | 4.74G/6.17G [00:11<00:03, 406MB/s]#015Downloading pytorch_model.bin:  77%|███████▋  | 4.78G/6.17G [00:11<00:03, 359MB/s]#015Downloading pytorch_model.bin:  78%|███████▊  | 4.82G/6.17G [00:12<00:03, 358MB/s]#015Downloading pytorch_model.bin:  79%|███████▉  | 4.87G/6.17G [00:12<00:03, 365MB/s]#015Downloading pytorch_model.bin:  79%|███████▉  | 4.91G/6.17G [00:12<00:03, 362MB/s]#015Downloading pytorch_model.bin:  80%|████████  | 4.95G/6.17G [00:12<00:03, 357MB/s]#015Downloading pytorch_model.bin:  81%|████████  | 5.00G/6.17G [00:12<00:03, 384MB/s]#015Downloading pytorch_model.bin:  82%|████████▏ | 5.05G/6.17G [00:12<00:02, 399MB/s]#015Downloading pytorch_model.bin:  83%|████████▎ | 5.10G/6.17G [00:12<00:02, 404MB/s]#015Downloading pytorch_model.bin:  83%|████████▎ | 5.15G/6.17G [00:12<00:02, 418MB/s]#015Downloading pytorch_model.bin:  84%|████████▍ | 5.19G/6.17G [00:12<00:02, 409MB/s]#015Downloading pytorch_model.bin:  85%|████████▍ | 5.23G/6.17G [00:13<00:02, 386MB/s]#015Downloading pytorch_model.bin:  86%|████████▌ | 5.28G/6.17G [00:13<00:02, 405MB/s]#015Downloading pytorch_model.bin:  86%|████████▋ | 5.34G/6.17G [00:13<00:01, 421MB/s]#015Downloading pytorch_model.bin:  87%|████████▋ | 5.39G/6.17G [00:13<00:01, 429MB/s]#015Downloading pytorch_model.bin:  88%|████████▊ | 5.44G/6.17G [00:13<00:01, 430MB/s]#015Downloading pytorch_model.bin:  89%|████████▉ | 5.49G/6.17G [00:13<00:01, 398MB/s]#015Downloading pytorch_model.bin:  90%|████████▉ | 5.55G/6.17G [00:13<00:01, 411MB/s]#015Downloading pytorch_model.bin:  91%|█████████ | 5.59G/6.17G [00:13<00:01, 400MB/s]#015Downloading pytorch_model.bin:  91%|█████████ | 5.63G/6.17G [00:14<00:01, 386MB/s]#015Downloading pytorch_model.bin:  92%|█████████▏| 5.67G/6.17G [00:14<00:01, 384MB/s]#015Downloading pytorch_model.bin:  93%|█████████▎| 5.73G/6.17G [00:14<00:01, 402MB/s]#015Downloading pytorch_model.bin:  94%|█████████▎| 5.78G/6.17G [00:14<00:00, 417MB/s]#015Downloading pytorch_model.bin:  94%|█████████▍| 5.82G/6.17G [00:14<00:00, 413MB/s]#015Downloading pytorch_model.bin:  95%|█████████▍| 5.86G/6.17G [00:14<00:00, 399MB/s]#015Downloading pytorch_model.bin:  96%|█████████▌| 5.90G/6.17G [00:14<00:00, 384MB/s]#015Downloading pytorch_model.bin:  96%|█████████▋| 5.95G/6.17G [00:14<00:00, 364MB/s]#015Downloading pytorch_model.bin:  97%|█████████▋| 5.99G/6.17G [00:14<00:00, 356MB/s]#015Downloading pytorch_model.bin:  98%|█████████▊| 6.03G/6.17G [00:15<00:00, 372MB/s]#015Downloading pytorch_model.bin:  98%|█████████▊| 6.07G/6.17G [00:15<00:00, 365MB/s]#015Downloading pytorch_model.bin:  99%|█████████▉| 6.11G/6.17G [00:15<00:00, 367MB/s]#015Downloading pytorch_model.bin: 100%|█████████▉| 6.16G/6.17G [00:15<00:00, 355MB/s]#015Downloading pytorch_model.bin: 100%|██████████| 6.17G/6.17G [00:15<00:00, 392MB/s]\u001b[0m\n",
      "\u001b[34m#015Downloading (…)neration_config.json:   0%|          | 0.00/3.51k [00:00<?, ?B/s]#015Downloading (…)neration_config.json: 100%|██████████| 3.51k/3.51k [00:00<00:00, 16.7MB/s]\u001b[0m\n",
      "\u001b[34m#015Downloading (…)okenizer_config.json:   0%|          | 0.00/800 [00:00<?, ?B/s]#015Downloading (…)okenizer_config.json: 100%|██████████| 800/800 [00:00<00:00, 4.04MB/s]\u001b[0m\n",
      "\u001b[34m#015Downloading (…)olve/main/vocab.json:   0%|          | 0.00/836k [00:00<?, ?B/s]#015Downloading (…)olve/main/vocab.json: 100%|██████████| 836k/836k [00:00<00:00, 42.8MB/s]\u001b[0m\n",
      "\u001b[34m#015Downloading (…)/main/tokenizer.json:   0%|          | 0.00/2.20M [00:00<?, ?B/s]#015Downloading (…)/main/tokenizer.json: 100%|██████████| 2.20M/2.20M [00:00<00:00, 35.4MB/s]\u001b[0m\n",
      "\u001b[34m#015Downloading (…)olve/main/merges.txt:   0%|          | 0.00/494k [00:00<?, ?B/s]#015Downloading (…)olve/main/merges.txt: 100%|██████████| 494k/494k [00:00<00:00, 114MB/s]\u001b[0m\n",
      "\u001b[34m#015Downloading (…)main/normalizer.json:   0%|          | 0.00/52.7k [00:00<?, ?B/s]#015Downloading (…)main/normalizer.json: 100%|██████████| 52.7k/52.7k [00:00<00:00, 80.3MB/s]\u001b[0m\n",
      "\u001b[34m#015Downloading (…)in/added_tokens.json:   0%|          | 0.00/2.08k [00:00<?, ?B/s]#015Downloading (…)in/added_tokens.json: 100%|██████████| 2.08k/2.08k [00:00<00:00, 13.8MB/s]\u001b[0m\n",
      "\u001b[34m#015Downloading (…)cial_tokens_map.json:   0%|          | 0.00/2.08k [00:00<?, ?B/s]#015Downloading (…)cial_tokens_map.json: 100%|██████████| 2.08k/2.08k [00:00<00:00, 13.8MB/s]\u001b[0m\n",
      "\u001b[34m#015Downloading (…)rocessor_config.json:   0%|          | 0.00/185k [00:00<?, ?B/s]#015Downloading (…)rocessor_config.json: 100%|██████████| 185k/185k [00:00<00:00, 69.6MB/s]\u001b[0m\n",
      "\u001b[34m/opt/ml/processing/input/demo-video-sagemaker-doc.mp4\u001b[0m\n",
      "\u001b[34mMoviePy - Writing audio in /opt/ml/processing/input/demo-video-sagemaker-doc.mp3\u001b[0m\n",
      "\u001b[34mMoviePy - Done.\u001b[0m\n",
      "\u001b[34m#015chunk:   0%|          | 0/9452 [00:00<?, ?it/s, now=None]#015chunk:   2%|▏         | 153/9452 [00:00<00:06, 1478.80it/s, now=None]#015chunk:   3%|▎         | 310/9452 [00:00<00:05, 1530.73it/s, now=None]#015chunk:   5%|▌         | 473/9452 [00:00<00:05, 1575.29it/s, now=None]#015chunk:   7%|▋         | 631/9452 [00:00<00:05, 1573.50it/s, now=None]#015chunk:   8%|▊         | 793/9452 [00:00<00:05, 1585.48it/s, now=None]#015chunk:  10%|█         | 957/9452 [00:00<00:05, 1601.79it/s, now=None]#015chunk:  12%|█▏        | 1118/9452 [00:00<00:05, 1583.24it/s, now=None]#015chunk:  14%|█▎        | 1277/9452 [00:00<00:05, 1528.59it/s, now=None]#015chunk:  15%|█▌        | 1445/9452 [00:00<00:05, 1567.25it/s, now=None]#015chunk:  17%|█▋        | 1603/9452 [00:01<00:05, 1565.93it/s, now=None]#015chunk:  19%|█▊        | 1764/9452 [00:01<00:04, 1578.30it/s, now=None]#015chunk:  20%|██        | 1923/9452 [00:01<00:04, 1574.22it/s, now=None]#015chunk:  22%|██▏       | 2083/9452 [00:01<00:04, 1576.67it/s, now=None]#015chunk:  24%|██▎       | 2244/9452 [00:01<00:04, 1560.95it/s, now=None]#015chunk:  26%|██▌       | 2416/9452 [00:01<00:04, 1601.97it/s, now=None]#015chunk:  27%|██▋       | 2577/9452 [00:01<00:04, 1603.77it/s, now=None]#015chunk:  29%|██▉       | 2738/9452 [00:01<00:04, 1604.73it/s, now=None]#015chunk:  31%|███       | 2907/9452 [00:01<00:04, 1611.17it/s, now=None]#015chunk:  32%|███▏      | 3071/9452 [00:01<00:03, 1619.46it/s, now=None]#015chunk:  34%|███▍      | 3233/9452 [00:02<00:03, 1617.83it/s, now=None]#015chunk:  36%|███▌      | 3395/9452 [00:02<00:03, 1610.55it/s, now=None]#015chunk:  38%|███▊      | 3557/9452 [00:02<00:03, 1611.47it/s, now=None]#015chunk:  39%|███▉      | 3719/9452 [00:02<00:03, 1604.54it/s, now=None]#015chunk:  41%|████      | 3880/9452 [00:02<00:03, 1572.02it/s, now=None]#015chunk:  43%|████▎     | 4040/9452 [00:02<00:03, 1579.61it/s, now=None]#015chunk:  44%|████▍     | 4199/9452 [00:02<00:03, 1555.42it/s, now=None]#015chunk:  46%|████▌     | 4355/9452 [00:02<00:03, 1533.77it/s, now=None]#015chunk:  48%|████▊     | 4519/9452 [00:02<00:03, 1560.40it/s, now=None]#015chunk:  50%|████▉     | 4679/9452 [00:02<00:03, 1570.84it/s, now=None]#015chunk:  51%|█████     | 4837/9452 [00:03<00:02, 1570.85it/s, now=None]#015chunk:  53%|█████▎    | 4995/9452 [00:03<00:02, 1565.37it/s, now=None]#015chunk:  55%|█████▍    | 5154/9452 [00:03<00:02, 1571.93it/s, now=None]#015chunk:  56%|█████▋    | 5324/9452 [00:03<00:02, 1609.12it/s, now=None]#015chunk:  58%|█████▊    | 5489/9452 [00:03<00:02, 1613.69it/s, now=None]#015chunk:  60%|█████▉    | 5653/9452 [00:03<00:02, 1616.72it/s, now=None]#015chunk:  62%|██████▏   | 5815/9452 [00:03<00:02, 1604.81it/s, now=None]#015chunk:  63%|██████▎   | 5986/9452 [00:03<00:02, 1629.09it/s, now=None]#015chunk:  65%|██████▌   | 6151/9452 [00:03<00:02, 1634.63it/s, now=None]#015chunk:  67%|██████▋   | 6315/9452 [00:03<00:01, 1634.97it/s, now=None]#015chunk:  69%|██████▊   | 6479/9452 [00:04<00:01, 1599.33it/s, now=None]#015chunk:  70%|███████   | 6646/9452 [00:04<00:01, 1619.37it/s, now=None]#015chunk:  72%|███████▏  | 6818/9452 [00:04<00:01, 1646.73it/s, now=None]#015chunk:  74%|███████▍  | 6983/9452 [00:04<00:01, 1630.43it/s, now=None]#015chunk:  76%|███████▌  | 7147/9452 [00:04<00:01, 1595.24it/s, now=None]#015chunk:  77%|███████▋  | 7307/9452 [00:04<00:01, 1584.06it/s, now=None]#015chunk:  79%|███████▉  | 7466/9452 [00:04<00:01, 1574.09it/s, now=None]#015chunk:  81%|████████  | 7626/9452 [00:04<00:01, 1577.74it/s, now=None]#015chunk:  82%|████████▏ | 7791/9452 [00:04<00:01, 1588.70it/s, now=None]#015chunk:  84%|████████▍ | 7954/9452 [00:05<00:00, 1592.18it/s, now=None]#015chunk:  86%|████████▌ | 8114/9452 [00:05<00:00, 1585.08it/s, now=None]#015chunk:  88%|████████▊ | 8275/9452 [00:05<00:00, 1591.58it/s, now=None]#015chunk:  89%|████████▉ | 8443/9452 [00:05<00:00, 1607.92it/s, now=None]#015chunk:  91%|█████████ | 8604/9452 [00:05<00:00, 1602.32it/s, now=None]#015chunk:  93%|█████████▎| 8765/9452 [00:05<00:00, 1590.91it/s, now=None]#015chunk:  94%|█████████▍| 8925/9452 [00:05<00:00, 1577.73it/s, now=None]#015chunk:  96%|█████████▌| 9083/9452 [00:05<00:00, 1577.12it/s, now=None]#015chunk:  98%|█████████▊| 9251/9452 [00:05<00:00, 1606.72it/s, now=None]#015chunk: 100%|█████████▉| 9412/9452 [00:05<00:00, 1605.21it/s, now=None]#015                                                                      #015#015Downloading (…)e9125/.gitattributes:   0%|          | 0.00/1.18k [00:00<?, ?B/s]#015Downloading (…)e9125/.gitattributes: 100%|██████████| 1.18k/1.18k [00:00<00:00, 9.14MB/s]\u001b[0m\n",
      "\u001b[34m#015Downloading (…)_Pooling/config.json:   0%|          | 0.00/190 [00:00<?, ?B/s]#015Downloading (…)_Pooling/config.json: 100%|██████████| 190/190 [00:00<00:00, 1.65MB/s]\u001b[0m\n",
      "\u001b[34m#015Downloading (…)7e55de9125/README.md:   0%|          | 0.00/10.6k [00:00<?, ?B/s]#015Downloading (…)7e55de9125/README.md: 100%|██████████| 10.6k/10.6k [00:00<00:00, 68.3MB/s]\u001b[0m\n",
      "\u001b[34m#015Downloading (…)55de9125/config.json:   0%|          | 0.00/612 [00:00<?, ?B/s]#015Downloading (…)55de9125/config.json: 100%|██████████| 612/612 [00:00<00:00, 5.27MB/s]\u001b[0m\n",
      "\u001b[34m#015Downloading (…)ce_transformers.json:   0%|          | 0.00/116 [00:00<?, ?B/s]#015Downloading (…)ce_transformers.json: 100%|██████████| 116/116 [00:00<00:00, 1.05MB/s]\u001b[0m\n",
      "\u001b[34m#015Downloading (…)125/data_config.json:   0%|          | 0.00/39.3k [00:00<?, ?B/s]#015Downloading (…)125/data_config.json: 100%|██████████| 39.3k/39.3k [00:00<00:00, 159MB/s]\u001b[0m\n",
      "\u001b[34m#015Downloading pytorch_model.bin:   0%|          | 0.00/90.9M [00:00<?, ?B/s]#015Downloading pytorch_model.bin:  23%|██▎       | 21.0M/90.9M [00:00<00:00, 204MB/s]#015Downloading pytorch_model.bin:  58%|█████▊    | 52.4M/90.9M [00:00<00:00, 231MB/s]#015Downloading pytorch_model.bin: 100%|██████████| 90.9M/90.9M [00:00<00:00, 282MB/s]#015Downloading pytorch_model.bin: 100%|██████████| 90.9M/90.9M [00:00<00:00, 262MB/s]\u001b[0m\n",
      "\u001b[34m#015Downloading (…)nce_bert_config.json:   0%|          | 0.00/53.0 [00:00<?, ?B/s]#015Downloading (…)nce_bert_config.json: 100%|██████████| 53.0/53.0 [00:00<00:00, 479kB/s]\u001b[0m\n",
      "\u001b[34m#015Downloading (…)cial_tokens_map.json:   0%|          | 0.00/112 [00:00<?, ?B/s]#015Downloading (…)cial_tokens_map.json: 100%|██████████| 112/112 [00:00<00:00, 722kB/s]\u001b[0m\n",
      "\u001b[34m#015Downloading (…)e9125/tokenizer.json:   0%|          | 0.00/466k [00:00<?, ?B/s]#015Downloading (…)e9125/tokenizer.json: 100%|██████████| 466k/466k [00:00<00:00, 32.0MB/s]\u001b[0m\n",
      "\u001b[34m#015Downloading (…)okenizer_config.json:   0%|          | 0.00/350 [00:00<?, ?B/s]#015Downloading (…)okenizer_config.json: 100%|██████████| 350/350 [00:00<00:00, 3.08MB/s]\u001b[0m\n",
      "\u001b[34m#015Downloading (…)9125/train_script.py:   0%|          | 0.00/13.2k [00:00<?, ?B/s]#015Downloading (…)9125/train_script.py: 100%|██████████| 13.2k/13.2k [00:00<00:00, 73.2MB/s]\u001b[0m\n",
      "\u001b[34m#015Downloading (…)7e55de9125/vocab.txt:   0%|          | 0.00/232k [00:00<?, ?B/s]#015Downloading (…)7e55de9125/vocab.txt: 100%|██████████| 232k/232k [00:00<00:00, 74.0MB/s]\u001b[0m\n",
      "\u001b[34m#015Downloading (…)5de9125/modules.json:   0%|          | 0.00/349 [00:00<?, ?B/s]#015Downloading (…)5de9125/modules.json: 100%|██████████| 349/349 [00:00<00:00, 2.58MB/s]\u001b[0m\n",
      "\n"
     ]
    }
   ],
   "source": [
    "hfp.run(\n",
    "    code='preprocessing.py',\n",
    "    source_dir=\"data_preparation\",\n",
    "    inputs=[\n",
    "        ProcessingInput(source=s3_input, destination=\"/opt/ml/processing/input\")\n",
    "    ], \n",
    "    outputs=[\n",
    "        ProcessingOutput(source='/opt/ml/processing/output_clips', destination=s3_output_clips),\n",
    "        ProcessingOutput(source='/opt/ml/processing/transcripts', destination=s3_output_transcript),\n",
    "    ],\n",
    "    arguments=[\n",
    "        \"--whisper-model\", \"whisper-large-v2\",\n",
    "        \"--target-language\", \"en\",\n",
    "        \"--sentence-embedding-model\", \"all-mpnet-base-v2\"\n",
    "    ]\n",
    ")"
   ]
  },
  {
   "cell_type": "code",
   "execution_count": 11,
   "id": "7744aff0-7627-4091-942f-f0bb2ba3c30c",
   "metadata": {
    "tags": []
   },
   "outputs": [],
   "source": [
    "import os\n",
    "if not os.path.exists('mytest'):\n",
    "    os.makedirs('mytest')"
   ]
  },
  {
   "cell_type": "markdown",
   "id": "1efea032-76d4-478c-943a-a4be59d47ea7",
   "metadata": {},
   "source": [
    "## Deploy Whipser model to SageMaker for real-time inference"
   ]
  },
  {
   "cell_type": "code",
   "execution_count": 12,
   "id": "0ed73b43-b5c7-4e1a-bd15-8e020cab8f51",
   "metadata": {},
   "outputs": [],
   "source": [
    "endpoint_name=\"whisper-large-v2\"\n",
    "# Hub Model configuration. https://huggingface.co/models\n",
    "hub = {\n",
    "    'HF_MODEL_ID':'openai/whisper-large-v2',\n",
    "    'HF_TASK':'automatic-speech-recognition',\n",
    "}\n",
    "\n",
    "# create Hugging Face Model Class\n",
    "huggingface_model = HuggingFaceModel(\n",
    "    transformers_version='4.26.0',\n",
    "    pytorch_version='1.13.1',\n",
    "    py_version='py39',\n",
    "    \n",
    "    env=hub,\n",
    "    role=role\n",
    ")"
   ]
  },
  {
   "cell_type": "code",
   "execution_count": 13,
   "id": "3d00b59f-c17c-4446-a900-55e2835c5625",
   "metadata": {
    "tags": []
   },
   "outputs": [
    {
     "name": "stderr",
     "output_type": "stream",
     "text": [
      "INFO:sagemaker:Creating model with name: huggingface-pytorch-inference-2023-07-15-06-22-35-247\n",
      "INFO:sagemaker:Creating endpoint-config with name whisper-large-v2\n",
      "INFO:sagemaker:Creating endpoint with name whisper-large-v2\n"
     ]
    },
    {
     "name": "stdout",
     "output_type": "stream",
     "text": [
      "-----------!"
     ]
    }
   ],
   "source": [
    "# deploy model to SageMaker Inference\n",
    "predictor = huggingface_model.deploy(\n",
    "    endpoint_name=endpoint_name,\n",
    "    initial_instance_count=1, # number of instances\n",
    "    instance_type='ml.g5.xlarge' # ec2 instance type\n",
    ")"
   ]
  },
  {
   "cell_type": "code",
   "execution_count": null,
   "id": "9cf3d59a-0ccf-4baf-95d9-a292c43872dc",
   "metadata": {},
   "outputs": [],
   "source": [
    "client = boto3.client('runtime.sagemaker')\n",
    "file = \"test.webm\"\n",
    "with open(file, \"rb\") as f:\n",
    "    data = f.read()"
   ]
  },
  {
   "cell_type": "code",
   "execution_count": null,
   "id": "e8e8d3ec-15a3-4e5f-b85b-19dd5ce98dd1",
   "metadata": {},
   "outputs": [],
   "source": [
    "response = client.invoke_endpoint(EndpointName=endpoint_name, ContentType='audio/x-audio', Body=data)\n",
    "output = json.loads(response['Body'].read())\n",
    "print(f\"Extracted text from the audio file:\\n {output['text']}\")"
   ]
  }
 ],
 "metadata": {
  "availableInstances": [
   {
    "_defaultOrder": 0,
    "_isFastLaunch": true,
    "category": "General purpose",
    "gpuNum": 0,
    "hideHardwareSpecs": false,
    "memoryGiB": 4,
    "name": "ml.t3.medium",
    "vcpuNum": 2
   },
   {
    "_defaultOrder": 1,
    "_isFastLaunch": false,
    "category": "General purpose",
    "gpuNum": 0,
    "hideHardwareSpecs": false,
    "memoryGiB": 8,
    "name": "ml.t3.large",
    "vcpuNum": 2
   },
   {
    "_defaultOrder": 2,
    "_isFastLaunch": false,
    "category": "General purpose",
    "gpuNum": 0,
    "hideHardwareSpecs": false,
    "memoryGiB": 16,
    "name": "ml.t3.xlarge",
    "vcpuNum": 4
   },
   {
    "_defaultOrder": 3,
    "_isFastLaunch": false,
    "category": "General purpose",
    "gpuNum": 0,
    "hideHardwareSpecs": false,
    "memoryGiB": 32,
    "name": "ml.t3.2xlarge",
    "vcpuNum": 8
   },
   {
    "_defaultOrder": 4,
    "_isFastLaunch": true,
    "category": "General purpose",
    "gpuNum": 0,
    "hideHardwareSpecs": false,
    "memoryGiB": 8,
    "name": "ml.m5.large",
    "vcpuNum": 2
   },
   {
    "_defaultOrder": 5,
    "_isFastLaunch": false,
    "category": "General purpose",
    "gpuNum": 0,
    "hideHardwareSpecs": false,
    "memoryGiB": 16,
    "name": "ml.m5.xlarge",
    "vcpuNum": 4
   },
   {
    "_defaultOrder": 6,
    "_isFastLaunch": false,
    "category": "General purpose",
    "gpuNum": 0,
    "hideHardwareSpecs": false,
    "memoryGiB": 32,
    "name": "ml.m5.2xlarge",
    "vcpuNum": 8
   },
   {
    "_defaultOrder": 7,
    "_isFastLaunch": false,
    "category": "General purpose",
    "gpuNum": 0,
    "hideHardwareSpecs": false,
    "memoryGiB": 64,
    "name": "ml.m5.4xlarge",
    "vcpuNum": 16
   },
   {
    "_defaultOrder": 8,
    "_isFastLaunch": false,
    "category": "General purpose",
    "gpuNum": 0,
    "hideHardwareSpecs": false,
    "memoryGiB": 128,
    "name": "ml.m5.8xlarge",
    "vcpuNum": 32
   },
   {
    "_defaultOrder": 9,
    "_isFastLaunch": false,
    "category": "General purpose",
    "gpuNum": 0,
    "hideHardwareSpecs": false,
    "memoryGiB": 192,
    "name": "ml.m5.12xlarge",
    "vcpuNum": 48
   },
   {
    "_defaultOrder": 10,
    "_isFastLaunch": false,
    "category": "General purpose",
    "gpuNum": 0,
    "hideHardwareSpecs": false,
    "memoryGiB": 256,
    "name": "ml.m5.16xlarge",
    "vcpuNum": 64
   },
   {
    "_defaultOrder": 11,
    "_isFastLaunch": false,
    "category": "General purpose",
    "gpuNum": 0,
    "hideHardwareSpecs": false,
    "memoryGiB": 384,
    "name": "ml.m5.24xlarge",
    "vcpuNum": 96
   },
   {
    "_defaultOrder": 12,
    "_isFastLaunch": false,
    "category": "General purpose",
    "gpuNum": 0,
    "hideHardwareSpecs": false,
    "memoryGiB": 8,
    "name": "ml.m5d.large",
    "vcpuNum": 2
   },
   {
    "_defaultOrder": 13,
    "_isFastLaunch": false,
    "category": "General purpose",
    "gpuNum": 0,
    "hideHardwareSpecs": false,
    "memoryGiB": 16,
    "name": "ml.m5d.xlarge",
    "vcpuNum": 4
   },
   {
    "_defaultOrder": 14,
    "_isFastLaunch": false,
    "category": "General purpose",
    "gpuNum": 0,
    "hideHardwareSpecs": false,
    "memoryGiB": 32,
    "name": "ml.m5d.2xlarge",
    "vcpuNum": 8
   },
   {
    "_defaultOrder": 15,
    "_isFastLaunch": false,
    "category": "General purpose",
    "gpuNum": 0,
    "hideHardwareSpecs": false,
    "memoryGiB": 64,
    "name": "ml.m5d.4xlarge",
    "vcpuNum": 16
   },
   {
    "_defaultOrder": 16,
    "_isFastLaunch": false,
    "category": "General purpose",
    "gpuNum": 0,
    "hideHardwareSpecs": false,
    "memoryGiB": 128,
    "name": "ml.m5d.8xlarge",
    "vcpuNum": 32
   },
   {
    "_defaultOrder": 17,
    "_isFastLaunch": false,
    "category": "General purpose",
    "gpuNum": 0,
    "hideHardwareSpecs": false,
    "memoryGiB": 192,
    "name": "ml.m5d.12xlarge",
    "vcpuNum": 48
   },
   {
    "_defaultOrder": 18,
    "_isFastLaunch": false,
    "category": "General purpose",
    "gpuNum": 0,
    "hideHardwareSpecs": false,
    "memoryGiB": 256,
    "name": "ml.m5d.16xlarge",
    "vcpuNum": 64
   },
   {
    "_defaultOrder": 19,
    "_isFastLaunch": false,
    "category": "General purpose",
    "gpuNum": 0,
    "hideHardwareSpecs": false,
    "memoryGiB": 384,
    "name": "ml.m5d.24xlarge",
    "vcpuNum": 96
   },
   {
    "_defaultOrder": 20,
    "_isFastLaunch": false,
    "category": "General purpose",
    "gpuNum": 0,
    "hideHardwareSpecs": true,
    "memoryGiB": 0,
    "name": "ml.geospatial.interactive",
    "supportedImageNames": [
     "sagemaker-geospatial-v1-0"
    ],
    "vcpuNum": 0
   },
   {
    "_defaultOrder": 21,
    "_isFastLaunch": true,
    "category": "Compute optimized",
    "gpuNum": 0,
    "hideHardwareSpecs": false,
    "memoryGiB": 4,
    "name": "ml.c5.large",
    "vcpuNum": 2
   },
   {
    "_defaultOrder": 22,
    "_isFastLaunch": false,
    "category": "Compute optimized",
    "gpuNum": 0,
    "hideHardwareSpecs": false,
    "memoryGiB": 8,
    "name": "ml.c5.xlarge",
    "vcpuNum": 4
   },
   {
    "_defaultOrder": 23,
    "_isFastLaunch": false,
    "category": "Compute optimized",
    "gpuNum": 0,
    "hideHardwareSpecs": false,
    "memoryGiB": 16,
    "name": "ml.c5.2xlarge",
    "vcpuNum": 8
   },
   {
    "_defaultOrder": 24,
    "_isFastLaunch": false,
    "category": "Compute optimized",
    "gpuNum": 0,
    "hideHardwareSpecs": false,
    "memoryGiB": 32,
    "name": "ml.c5.4xlarge",
    "vcpuNum": 16
   },
   {
    "_defaultOrder": 25,
    "_isFastLaunch": false,
    "category": "Compute optimized",
    "gpuNum": 0,
    "hideHardwareSpecs": false,
    "memoryGiB": 72,
    "name": "ml.c5.9xlarge",
    "vcpuNum": 36
   },
   {
    "_defaultOrder": 26,
    "_isFastLaunch": false,
    "category": "Compute optimized",
    "gpuNum": 0,
    "hideHardwareSpecs": false,
    "memoryGiB": 96,
    "name": "ml.c5.12xlarge",
    "vcpuNum": 48
   },
   {
    "_defaultOrder": 27,
    "_isFastLaunch": false,
    "category": "Compute optimized",
    "gpuNum": 0,
    "hideHardwareSpecs": false,
    "memoryGiB": 144,
    "name": "ml.c5.18xlarge",
    "vcpuNum": 72
   },
   {
    "_defaultOrder": 28,
    "_isFastLaunch": false,
    "category": "Compute optimized",
    "gpuNum": 0,
    "hideHardwareSpecs": false,
    "memoryGiB": 192,
    "name": "ml.c5.24xlarge",
    "vcpuNum": 96
   },
   {
    "_defaultOrder": 29,
    "_isFastLaunch": true,
    "category": "Accelerated computing",
    "gpuNum": 1,
    "hideHardwareSpecs": false,
    "memoryGiB": 16,
    "name": "ml.g4dn.xlarge",
    "vcpuNum": 4
   },
   {
    "_defaultOrder": 30,
    "_isFastLaunch": false,
    "category": "Accelerated computing",
    "gpuNum": 1,
    "hideHardwareSpecs": false,
    "memoryGiB": 32,
    "name": "ml.g4dn.2xlarge",
    "vcpuNum": 8
   },
   {
    "_defaultOrder": 31,
    "_isFastLaunch": false,
    "category": "Accelerated computing",
    "gpuNum": 1,
    "hideHardwareSpecs": false,
    "memoryGiB": 64,
    "name": "ml.g4dn.4xlarge",
    "vcpuNum": 16
   },
   {
    "_defaultOrder": 32,
    "_isFastLaunch": false,
    "category": "Accelerated computing",
    "gpuNum": 1,
    "hideHardwareSpecs": false,
    "memoryGiB": 128,
    "name": "ml.g4dn.8xlarge",
    "vcpuNum": 32
   },
   {
    "_defaultOrder": 33,
    "_isFastLaunch": false,
    "category": "Accelerated computing",
    "gpuNum": 4,
    "hideHardwareSpecs": false,
    "memoryGiB": 192,
    "name": "ml.g4dn.12xlarge",
    "vcpuNum": 48
   },
   {
    "_defaultOrder": 34,
    "_isFastLaunch": false,
    "category": "Accelerated computing",
    "gpuNum": 1,
    "hideHardwareSpecs": false,
    "memoryGiB": 256,
    "name": "ml.g4dn.16xlarge",
    "vcpuNum": 64
   },
   {
    "_defaultOrder": 35,
    "_isFastLaunch": false,
    "category": "Accelerated computing",
    "gpuNum": 1,
    "hideHardwareSpecs": false,
    "memoryGiB": 61,
    "name": "ml.p3.2xlarge",
    "vcpuNum": 8
   },
   {
    "_defaultOrder": 36,
    "_isFastLaunch": false,
    "category": "Accelerated computing",
    "gpuNum": 4,
    "hideHardwareSpecs": false,
    "memoryGiB": 244,
    "name": "ml.p3.8xlarge",
    "vcpuNum": 32
   },
   {
    "_defaultOrder": 37,
    "_isFastLaunch": false,
    "category": "Accelerated computing",
    "gpuNum": 8,
    "hideHardwareSpecs": false,
    "memoryGiB": 488,
    "name": "ml.p3.16xlarge",
    "vcpuNum": 64
   },
   {
    "_defaultOrder": 38,
    "_isFastLaunch": false,
    "category": "Accelerated computing",
    "gpuNum": 8,
    "hideHardwareSpecs": false,
    "memoryGiB": 768,
    "name": "ml.p3dn.24xlarge",
    "vcpuNum": 96
   },
   {
    "_defaultOrder": 39,
    "_isFastLaunch": false,
    "category": "Memory Optimized",
    "gpuNum": 0,
    "hideHardwareSpecs": false,
    "memoryGiB": 16,
    "name": "ml.r5.large",
    "vcpuNum": 2
   },
   {
    "_defaultOrder": 40,
    "_isFastLaunch": false,
    "category": "Memory Optimized",
    "gpuNum": 0,
    "hideHardwareSpecs": false,
    "memoryGiB": 32,
    "name": "ml.r5.xlarge",
    "vcpuNum": 4
   },
   {
    "_defaultOrder": 41,
    "_isFastLaunch": false,
    "category": "Memory Optimized",
    "gpuNum": 0,
    "hideHardwareSpecs": false,
    "memoryGiB": 64,
    "name": "ml.r5.2xlarge",
    "vcpuNum": 8
   },
   {
    "_defaultOrder": 42,
    "_isFastLaunch": false,
    "category": "Memory Optimized",
    "gpuNum": 0,
    "hideHardwareSpecs": false,
    "memoryGiB": 128,
    "name": "ml.r5.4xlarge",
    "vcpuNum": 16
   },
   {
    "_defaultOrder": 43,
    "_isFastLaunch": false,
    "category": "Memory Optimized",
    "gpuNum": 0,
    "hideHardwareSpecs": false,
    "memoryGiB": 256,
    "name": "ml.r5.8xlarge",
    "vcpuNum": 32
   },
   {
    "_defaultOrder": 44,
    "_isFastLaunch": false,
    "category": "Memory Optimized",
    "gpuNum": 0,
    "hideHardwareSpecs": false,
    "memoryGiB": 384,
    "name": "ml.r5.12xlarge",
    "vcpuNum": 48
   },
   {
    "_defaultOrder": 45,
    "_isFastLaunch": false,
    "category": "Memory Optimized",
    "gpuNum": 0,
    "hideHardwareSpecs": false,
    "memoryGiB": 512,
    "name": "ml.r5.16xlarge",
    "vcpuNum": 64
   },
   {
    "_defaultOrder": 46,
    "_isFastLaunch": false,
    "category": "Memory Optimized",
    "gpuNum": 0,
    "hideHardwareSpecs": false,
    "memoryGiB": 768,
    "name": "ml.r5.24xlarge",
    "vcpuNum": 96
   },
   {
    "_defaultOrder": 47,
    "_isFastLaunch": false,
    "category": "Accelerated computing",
    "gpuNum": 1,
    "hideHardwareSpecs": false,
    "memoryGiB": 16,
    "name": "ml.g5.xlarge",
    "vcpuNum": 4
   },
   {
    "_defaultOrder": 48,
    "_isFastLaunch": false,
    "category": "Accelerated computing",
    "gpuNum": 1,
    "hideHardwareSpecs": false,
    "memoryGiB": 32,
    "name": "ml.g5.2xlarge",
    "vcpuNum": 8
   },
   {
    "_defaultOrder": 49,
    "_isFastLaunch": false,
    "category": "Accelerated computing",
    "gpuNum": 1,
    "hideHardwareSpecs": false,
    "memoryGiB": 64,
    "name": "ml.g5.4xlarge",
    "vcpuNum": 16
   },
   {
    "_defaultOrder": 50,
    "_isFastLaunch": false,
    "category": "Accelerated computing",
    "gpuNum": 1,
    "hideHardwareSpecs": false,
    "memoryGiB": 128,
    "name": "ml.g5.8xlarge",
    "vcpuNum": 32
   },
   {
    "_defaultOrder": 51,
    "_isFastLaunch": false,
    "category": "Accelerated computing",
    "gpuNum": 1,
    "hideHardwareSpecs": false,
    "memoryGiB": 256,
    "name": "ml.g5.16xlarge",
    "vcpuNum": 64
   },
   {
    "_defaultOrder": 52,
    "_isFastLaunch": false,
    "category": "Accelerated computing",
    "gpuNum": 4,
    "hideHardwareSpecs": false,
    "memoryGiB": 192,
    "name": "ml.g5.12xlarge",
    "vcpuNum": 48
   },
   {
    "_defaultOrder": 53,
    "_isFastLaunch": false,
    "category": "Accelerated computing",
    "gpuNum": 4,
    "hideHardwareSpecs": false,
    "memoryGiB": 384,
    "name": "ml.g5.24xlarge",
    "vcpuNum": 96
   },
   {
    "_defaultOrder": 54,
    "_isFastLaunch": false,
    "category": "Accelerated computing",
    "gpuNum": 8,
    "hideHardwareSpecs": false,
    "memoryGiB": 768,
    "name": "ml.g5.48xlarge",
    "vcpuNum": 192
   },
   {
    "_defaultOrder": 55,
    "_isFastLaunch": false,
    "category": "Accelerated computing",
    "gpuNum": 8,
    "hideHardwareSpecs": false,
    "memoryGiB": 1152,
    "name": "ml.p4d.24xlarge",
    "vcpuNum": 96
   },
   {
    "_defaultOrder": 56,
    "_isFastLaunch": false,
    "category": "Accelerated computing",
    "gpuNum": 8,
    "hideHardwareSpecs": false,
    "memoryGiB": 1152,
    "name": "ml.p4de.24xlarge",
    "vcpuNum": 96
   }
  ],
  "instance_type": "ml.t3.medium",
  "kernelspec": {
   "display_name": "Python 3 (Data Science 3.0)",
   "language": "python",
   "name": "python3__SAGEMAKER_INTERNAL__arn:aws:sagemaker:us-east-1:081325390199:image/sagemaker-data-science-310-v1"
  },
  "language_info": {
   "codemirror_mode": {
    "name": "ipython",
    "version": 3
   },
   "file_extension": ".py",
   "mimetype": "text/x-python",
   "name": "python",
   "nbconvert_exporter": "python",
   "pygments_lexer": "ipython3",
   "version": "3.10.6"
  }
 },
 "nbformat": 4,
 "nbformat_minor": 5
}
